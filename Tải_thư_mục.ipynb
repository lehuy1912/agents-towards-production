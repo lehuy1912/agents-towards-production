{
  "nbformat": 4,
  "nbformat_minor": 0,
  "metadata": {
    "colab": {
      "provenance": [],
      "toc_visible": true,
      "authorship_tag": "ABX9TyO2udcJgERzRlK8qnHO11WR",
      "include_colab_link": true
    },
    "kernelspec": {
      "name": "python3",
      "display_name": "Python 3"
    },
    "language_info": {
      "name": "python"
    }
  },
  "cells": [
    {
      "cell_type": "markdown",
      "metadata": {
        "id": "view-in-github",
        "colab_type": "text"
      },
      "source": [
        "<a href=\"https://colab.research.google.com/github/lehuy1912/agents-towards-production/blob/main/T%E1%BA%A3i_th%C6%B0_m%E1%BB%A5c.ipynb\" target=\"_parent\"><img src=\"https://colab.research.google.com/assets/colab-badge.svg\" alt=\"Open In Colab\"/></a>"
      ]
    },
    {
      "cell_type": "code",
      "execution_count": null,
      "metadata": {
        "colab": {
          "base_uri": "https://localhost:8080/"
        },
        "id": "lQohHI3IF-mo",
        "outputId": "6b402c77-cf37-43c3-9a6a-94f708be0091"
      },
      "outputs": [
        {
          "output_type": "stream",
          "name": "stdout",
          "text": [
            "Mounted at /content/drive\n"
          ]
        }
      ],
      "source": [
        "from google.colab import drive\n",
        "\n",
        "drive.mount('/content/drive', force_remount=True)"
      ]
    },
    {
      "cell_type": "code",
      "source": [
        "# Cài gdown (hỗ trợ copy cả folder)\n",
        "!pip install -U gdown"
      ],
      "metadata": {
        "id": "R8guk1FdHBli"
      },
      "execution_count": null,
      "outputs": []
    },
    {
      "cell_type": "code",
      "source": [
        "!sudo cp -av -n \"https://drive.google.com/drive/u/0/folders/1ii1BZDipM0FCxwFBVWTIQ_qaVTabXqYn\" \"/content/drive/MyDrive\""
      ],
      "metadata": {
        "colab": {
          "base_uri": "https://localhost:8080/"
        },
        "id": "h9_dc9bOGZIl",
        "outputId": "b2174fd0-5d45-439c-f885-ca45b09d14c2"
      },
      "execution_count": null,
      "outputs": [
        {
          "output_type": "stream",
          "name": "stdout",
          "text": [
            "cp: cannot stat 'https://drive.google.com/drive/u/0/folders/1ii1BZDipM0FCxwFBVWTIQ_qaVTabXqYn': No such file or directory\n"
          ]
        }
      ]
    },
    {
      "cell_type": "code",
      "source": [
        "# === Thay link folder share ở đây ===\n",
        "folder_url = \"https://drive.google.com/drive/folders/1UimnxlaELqSl_9Vf0f5K56odRLQTAPMe\"\n",
        "\n",
        "# Thư mục đích trong Drive của bạn (MyDrive)\n",
        "output_dir = \"/content/drive/MyDrive/\"\n",
        "\n",
        "# Chạy lệnh copy toàn bộ thư mục share vào Drive\n",
        "!gdown --folder {folder_url} -O \"{output_dir}\""
      ],
      "metadata": {
        "id": "aG-VsDucHF7Z"
      },
      "execution_count": null,
      "outputs": []
    }
  ]
}